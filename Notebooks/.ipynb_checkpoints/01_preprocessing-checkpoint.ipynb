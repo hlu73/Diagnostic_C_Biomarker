{
 "cells": [
  {
   "cell_type": "code",
   "execution_count": 2,
   "metadata": {
    "tags": []
   },
   "outputs": [
    {
     "name": "stdout",
     "output_type": "stream",
     "text": [
      "Requirement already satisfied: rfpimp in /anaconda/envs/jupyter_env/lib/python3.9/site-packages (1.3.7)\n",
      "Requirement already satisfied: numpy in /anaconda/envs/jupyter_env/lib/python3.9/site-packages (from rfpimp) (1.26.4)\n",
      "Requirement already satisfied: pandas in /anaconda/envs/jupyter_env/lib/python3.9/site-packages (from rfpimp) (1.3.5)\n",
      "Requirement already satisfied: scikit-learn in /anaconda/envs/jupyter_env/lib/python3.9/site-packages (from rfpimp) (1.5.2)\n",
      "Requirement already satisfied: matplotlib in /anaconda/envs/jupyter_env/lib/python3.9/site-packages (from rfpimp) (3.9.2)\n",
      "Requirement already satisfied: contourpy>=1.0.1 in /anaconda/envs/jupyter_env/lib/python3.9/site-packages (from matplotlib->rfpimp) (1.3.0)\n",
      "Requirement already satisfied: cycler>=0.10 in /anaconda/envs/jupyter_env/lib/python3.9/site-packages (from matplotlib->rfpimp) (0.12.1)\n",
      "Requirement already satisfied: fonttools>=4.22.0 in /anaconda/envs/jupyter_env/lib/python3.9/site-packages (from matplotlib->rfpimp) (4.54.1)\n",
      "Requirement already satisfied: kiwisolver>=1.3.1 in /anaconda/envs/jupyter_env/lib/python3.9/site-packages (from matplotlib->rfpimp) (1.4.7)\n",
      "Requirement already satisfied: packaging>=20.0 in /anaconda/envs/jupyter_env/lib/python3.9/site-packages (from matplotlib->rfpimp) (24.1)\n",
      "Requirement already satisfied: pillow>=8 in /anaconda/envs/jupyter_env/lib/python3.9/site-packages (from matplotlib->rfpimp) (10.3.0)\n",
      "Requirement already satisfied: pyparsing>=2.3.1 in /anaconda/envs/jupyter_env/lib/python3.9/site-packages (from matplotlib->rfpimp) (3.1.4)\n",
      "Requirement already satisfied: python-dateutil>=2.7 in /anaconda/envs/jupyter_env/lib/python3.9/site-packages (from matplotlib->rfpimp) (2.9.0.post0)\n",
      "Requirement already satisfied: importlib-resources>=3.2.0 in /anaconda/envs/jupyter_env/lib/python3.9/site-packages (from matplotlib->rfpimp) (6.4.5)\n",
      "Requirement already satisfied: pytz>=2017.3 in /anaconda/envs/jupyter_env/lib/python3.9/site-packages (from pandas->rfpimp) (2024.1)\n",
      "Requirement already satisfied: scipy>=1.6.0 in /anaconda/envs/jupyter_env/lib/python3.9/site-packages (from scikit-learn->rfpimp) (1.13.1)\n",
      "Requirement already satisfied: joblib>=1.2.0 in /anaconda/envs/jupyter_env/lib/python3.9/site-packages (from scikit-learn->rfpimp) (1.4.2)\n",
      "Requirement already satisfied: threadpoolctl>=3.1.0 in /anaconda/envs/jupyter_env/lib/python3.9/site-packages (from scikit-learn->rfpimp) (3.5.0)\n",
      "Requirement already satisfied: zipp>=3.1.0 in /anaconda/envs/jupyter_env/lib/python3.9/site-packages (from importlib-resources>=3.2.0->matplotlib->rfpimp) (3.19.2)\n",
      "Requirement already satisfied: six>=1.5 in /anaconda/envs/jupyter_env/lib/python3.9/site-packages (from python-dateutil>=2.7->matplotlib->rfpimp) (1.16.0)\n"
     ]
    }
   ],
   "source": [
    "import sys\n",
    "!{sys.executable} -m pip install rfpimp"
   ]
  },
  {
   "cell_type": "code",
   "execution_count": 3,
   "metadata": {
    "tags": []
   },
   "outputs": [],
   "source": [
    "import pandas as pd\n",
    "import numpy as np\n",
    "from sklearn.preprocessing import LabelEncoder\n",
    "from sklearn.model_selection import train_test_split\n",
    "\n",
    "from rfpimp import *\n",
    "from sklearn.feature_selection import SelectKBest, chi2, mutual_info_classif\n",
    "from sklearn.ensemble import RandomForestClassifier\n",
    "from sklearn.inspection import permutation_importance\n",
    "from sklearn.model_selection import cross_val_score\n",
    "from sklearn.metrics import accuracy_score, precision_score, recall_score, f1_score"
   ]
  },
  {
   "cell_type": "code",
   "execution_count": 4,
   "metadata": {
    "tags": []
   },
   "outputs": [
    {
     "name": "stdout",
     "output_type": "stream",
     "text": [
      "Shape of merged data: (1109, 6142)\n"
     ]
    }
   ],
   "source": [
    "# Load data\n",
    "gene_expression = pd.read_csv('../Data/Processed/NSCLC_expression_model_training.csv', index_col='SampID')\n",
    "clinical_data = pd.read_csv('../Data/Processed/NSCLC_labels_model_training.csv', index_col='SampID')\n",
    "\n",
    "# Merge datasets\n",
    "expression_clincov = pd.merge(gene_expression, clinical_data, left_index=True, right_index=True)\n",
    "expression_condition = pd.merge(gene_expression, clinical_data[['Condition']], on='SampID', how='left')\n",
    "\n",
    "print(f\"Shape of merged data: {expression_condition.shape}\")"
   ]
  },
  {
   "cell_type": "code",
   "execution_count": 5,
   "metadata": {},
   "outputs": [],
   "source": [
    "# Encode the \"Condition\" variable\n",
    "label_encoder = LabelEncoder()\n",
    "y = label_encoder.fit_transform(expression_condition['Condition'])\n",
    "\n",
    "# Prepare the feature matrix with gene expression only\n",
    "X = expression_condition.drop(columns=['Condition'])\n",
    "\n",
    "# Split the data\n",
    "X_train, X_test, y_train, y_test = train_test_split(X, y, test_size=0.2, random_state=42)"
   ]
  },
  {
   "cell_type": "code",
   "execution_count": 6,
   "metadata": {
    "tags": []
   },
   "outputs": [],
   "source": [
    "def chi_squared_feature_selection(X, y, k=100):\n",
    "    chi2_selector = SelectKBest(chi2, k=k)\n",
    "    chi2_selector.fit(X, y)\n",
    "    return X.columns[chi2_selector.get_support()].tolist()\n",
    "\n",
    "def mutual_information_feature_selection(X, y, k=100):\n",
    "    mi_selector = SelectKBest(mutual_info_classif, k=k)\n",
    "    mi_selector.fit(X, y)\n",
    "    return X.columns[mi_selector.get_support()].tolist()\n",
    "\n",
    "def random_forest_feature_importance(X, y, k=100):\n",
    "    model = RandomForestClassifier(random_state=42)\n",
    "    model.fit(X, y)\n",
    "    importances = model.feature_importances_\n",
    "    indices = np.argsort(importances)[::-1][:k]\n",
    "    return X.columns[indices].tolist()\n",
    "\n",
    "def permutation_feature_importance(X, y, k=100):\n",
    "    model = RandomForestClassifier(random_state=42)\n",
    "    model.fit(X, y)\n",
    "    result = permutation_importance(model, X, y, n_repeats=10, random_state=42)\n",
    "    sorted_indices = result.importances_mean.argsort()[::-1][:k]\n",
    "    return X.columns[sorted_indices].tolist()\n",
    "\n",
    "def rfpimp_feature_selection(X, y_train, X_test, y_test, n_features=100):\n",
    "    rf = RandomForestClassifier(random_state=42)\n",
    "    rf.fit(X_train, y_train)\n",
    "    imp = importances(rf, X_test, y_test, n_samples=-1)\n",
    "    # Ensure imp is a DataFrame with 'Feature' as index and 'Importance' as a column\n",
    "    if not isinstance(imp, pd.DataFrame) or 'Importance' not in imp.columns:\n",
    "        raise ValueError(\"imp should be a DataFrame with 'Importance' column\")\n",
    "    return imp.nlargest(n_features, 'Importance').index.tolist()"
   ]
  },
  {
   "cell_type": "code",
   "execution_count": 7,
   "metadata": {
    "tags": []
   },
   "outputs": [],
   "source": [
    "def train_and_evaluate(X_train, X_test, y_train, y_test, features):\n",
    "    clf = RandomForestClassifier(random_state=42)\n",
    "    \n",
    "    # Cross-validation on training data\n",
    "    cv_scores = cross_val_score(clf, X_train[features], y_train, cv=5)\n",
    "    \n",
    "    # Train on full training set\n",
    "    clf.fit(X_train[features], y_train)\n",
    "    \n",
    "    # Predict on test set\n",
    "    y_pred = clf.predict(X_test[features])\n",
    "    \n",
    "    # Calculate metrics\n",
    "    accuracy = accuracy_score(y_test, y_pred)\n",
    "    precision = precision_score(y_test, y_pred, average='weighted')\n",
    "    recall = recall_score(y_test, y_pred, average='weighted')\n",
    "    f1 = f1_score(y_test, y_pred, average='weighted')\n",
    "    \n",
    "    return {\n",
    "        'cv_score_mean': np.mean(cv_scores),\n",
    "        'cv_score_std': np.std(cv_scores),\n",
    "        'test_accuracy': accuracy,\n",
    "        'test_precision': precision,\n",
    "        'test_recall': recall,\n",
    "        'test_f1': f1\n",
    "    }"
   ]
  },
  {
   "cell_type": "code",
   "execution_count": 17,
   "metadata": {
    "tags": []
   },
   "outputs": [
    {
     "name": "stdout",
     "output_type": "stream",
     "text": [
      "\n",
      "Results for Chi-Squared:\n",
      "cv_score_mean: 0.9402\n",
      "cv_score_std: 0.0181\n",
      "test_accuracy: 0.9550\n",
      "test_precision: 0.9573\n",
      "test_recall: 0.9550\n",
      "test_f1: 0.9548\n",
      "\n",
      "Results for Mutual Information:\n",
      "cv_score_mean: 0.9504\n",
      "cv_score_std: 0.0136\n",
      "test_accuracy: 0.9685\n",
      "test_precision: 0.9688\n",
      "test_recall: 0.9685\n",
      "test_f1: 0.9684\n",
      "\n",
      "Results for Random Forest:\n",
      "cv_score_mean: 0.9515\n",
      "cv_score_std: 0.0162\n",
      "test_accuracy: 0.9685\n",
      "test_precision: 0.9694\n",
      "test_recall: 0.9685\n",
      "test_f1: 0.9684\n",
      "\n",
      "Results for Permutation:\n",
      "cv_score_mean: 0.9414\n",
      "cv_score_std: 0.0117\n",
      "test_accuracy: 0.9505\n",
      "test_precision: 0.9513\n",
      "test_recall: 0.9505\n",
      "test_f1: 0.9504\n",
      "\n",
      "Results for RFPIMP:\n",
      "cv_score_mean: 0.9459\n",
      "cv_score_std: 0.0146\n",
      "test_accuracy: 0.9369\n",
      "test_precision: 0.9381\n",
      "test_recall: 0.9369\n",
      "test_f1: 0.9368\n"
     ]
    }
   ],
   "source": [
    "# Main execution\n",
    "feature_selection_methods = [\n",
    "    ('Chi-Squared', chi_squared_feature_selection),\n",
    "    ('Mutual Information', mutual_information_feature_selection),\n",
    "    ('Random Forest', random_forest_feature_importance),\n",
    "    ('Permutation', permutation_feature_importance),\n",
    "    ('RFPIMP', rfpimp_feature_selection)\n",
    "]\n",
    "\n",
    "results = {}\n",
    "\n",
    "for name, method in feature_selection_methods:\n",
    "    if name == 'RFPIMP':\n",
    "        selected_features = method(X_train, y_train, X_test, y_test)\n",
    "    else:\n",
    "        selected_features = method(X_train, y_train)\n",
    "    results[name] = train_and_evaluate(X_train, X_test, y_train, y_test, selected_features)\n",
    "\n",
    "# Display results\n",
    "for method, metrics in results.items():\n",
    "    print(f\"\\nResults for {method}:\")\n",
    "    for metric, value in metrics.items():\n",
    "        print(f\"{metric}: {value:.4f}\")"
   ]
  },
  {
   "cell_type": "code",
   "execution_count": 10,
   "metadata": {
    "tags": []
   },
   "outputs": [],
   "source": [
    "random_forest_features = random_forest_feature_importance(X_train, y_train)\n",
    "mutual_information_features = mutual_information_feature_selection(X_train, y_train)"
   ]
  },
  {
   "cell_type": "code",
   "execution_count": 11,
   "metadata": {
    "tags": []
   },
   "outputs": [
    {
     "data": {
      "text/plain": [
       "50"
      ]
     },
     "execution_count": 11,
     "metadata": {},
     "output_type": "execute_result"
    }
   ],
   "source": [
    "len(set(random_forest_features) & set(mutual_information_features))"
   ]
  }
 ],
 "metadata": {
  "kernelspec": {
   "display_name": "Python 3 (ipykernel)",
   "language": "python",
   "name": "python3"
  },
  "language_info": {
   "codemirror_mode": {
    "name": "ipython",
    "version": 3
   },
   "file_extension": ".py",
   "mimetype": "text/x-python",
   "name": "python",
   "nbconvert_exporter": "python",
   "pygments_lexer": "ipython3",
   "version": "3.9.18"
  },
  "microsoft": {
   "ms_spell_check": {
    "ms_spell_check_language": "en"
   }
  },
  "nteract": {
   "version": "nteract-front-end@1.0.0"
  }
 },
 "nbformat": 4,
 "nbformat_minor": 4
}
